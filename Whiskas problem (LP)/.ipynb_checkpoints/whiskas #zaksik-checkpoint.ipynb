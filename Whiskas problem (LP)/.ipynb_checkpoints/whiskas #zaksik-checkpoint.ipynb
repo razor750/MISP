{
 "cells": [
  {
   "cell_type": "markdown",
   "metadata": {},
   "source": [
    "# \"Problem mieszania\"\n",
    "## W firmie Uncle Ben, która produkuje karmę dla kotów marki Whiskas spotkali się z problemem procentowej ilości doboru dwóch typów mięs w produkcie. Optymalizacja kosztów jest głównym celem tego zadania. Producent ma zapewnić odpowiednie normy produktu, a mianowicie zależy nam na wartościach odżywczych, które produkt powinien zawierać i ograniczeniu substancji niekorzystnych, których może zawierać ograniczoną ilość."
   ]
  },
  {
   "cell_type": "markdown",
   "metadata": {},
   "source": [
    "Kod zaczynamy od zaimportowania biblioteki pulp. Definiujemy zmiennną prop, przedstawiającą funkcję do minimalizacji. Określamy jakiego typu wyniku oczekujemy, czyli procentowy od 0 do 100, gdzie 100 jest górną granicą."
   ]
  },
  {
   "cell_type": "code",
   "execution_count": 2,
   "metadata": {},
   "outputs": [],
   "source": [
    "from pulp import *\n",
    "# Create the 'prob' variable to contain the problem data\n",
    "prob = LpProblem(\"The Whiskas Problem\",LpMinimize)\n",
    "#LpVariable(\"example\", None, 100)\n",
    "#LpVariable(\"example\", upBound = 100)\n",
    "\n",
    "# The 2 variables Beef and Chicken are created with a lower limit of zero\n",
    "x1=LpVariable(\"ChickenPercent\",0,None,LpInteger)\n",
    "x2=LpVariable(\"BeefPercent\",0)"
   ]
  },
  {
   "cell_type": "markdown",
   "metadata": {},
   "source": [
    "Określamy funkcję dla problemu, czyli koszt każdego składnika mnożony przez jego procentowy udział-funkcja liniowa. Nakładamy ograniczenia i normy dla produktu, przez określenie zawartośći substancji porządanych i tych mniej uwzględniając oba typy mięsa."
   ]
  },
  {
   "cell_type": "code",
   "execution_count": 3,
   "metadata": {},
   "outputs": [],
   "source": [
    "# The objective function is added to 'prob' first\n",
    "prob += 0.013*x1 + 0.008*x2, \"Total Cost of Ingredients per can\"\n",
    "# The five constraints are entered\n",
    "prob += x1 + x2 == 100, \"PercentagesSum\"\n",
    "prob += 0.100*x1 + 0.200*x2 >= 8.0, \"ProteinRequirement\"\n",
    "prob += 0.080*x1 + 0.100*x2 >= 6.0, \"FatRequirement\"\n",
    "prob += 0.001*x1 + 0.005*x2 <= 2.0, \"FibreRequirement\"\n",
    "prob += 0.002*x1 + 0.005*x2 <= 0.4, \"SaltRequirement\""
   ]
  },
  {
   "cell_type": "markdown",
   "metadata": {},
   "source": [
    "Tak zdefiniowany problem zapisujemy i wskazujemy a jego rozwiązanie. W rozwiązaniu otrzymujemy udział obu zmiennnych i wartość całkowitą produktu."
   ]
  },
  {
   "cell_type": "code",
   "execution_count": 4,
   "metadata": {},
   "outputs": [
    {
     "name": "stdout",
     "output_type": "stream",
     "text": [
      "Status: Optimal\n",
      "BeefPercent = 66.0\n",
      "ChickenPercent = 34.0\n",
      "Total Cost of Ingredients per can =  0.97\n"
     ]
    }
   ],
   "source": [
    "# The problem data is written to an .lp file\n",
    "prob.writeLP(\"WhiskasModel.lp\")\n",
    "\n",
    "# The problem is solved using PuLP's choice of Solver\n",
    "prob.solve()\n",
    "\n",
    "# The status of the solution is printed to the screen\n",
    "print(\"Status:\", LpStatus[prob.status])\n",
    "# Each of the variables is printed with it's resolved optimum value\n",
    "for v in prob.variables():\n",
    "    print(v.name, \"=\", v.varValue)\n",
    "\n",
    "# The optimised objective function value is printed to the screen\n",
    "print(\"Total Cost of Ingredients per can = \", value(prob.objective))"
   ]
  },
  {
   "cell_type": "markdown",
   "metadata": {},
   "source": [
    "## Pełna wersja zagadnienia\n",
    "Kolejna wersja programu była pełniejsza, użyte zostały wszystkie możliwe dla producenta składniki. Zostały one wprowadzone w inny sposób niż w pierwszym przykładzie, tworzą one tzw. słownik. Wszystkie kluczowe dla nas dane są opisane jako słowniki, które zawierają zmienne problemu-klucze referencyjne z przypisanymi do nich wartościami."
   ]
  },
  {
   "cell_type": "code",
   "execution_count": 5,
   "metadata": {},
   "outputs": [],
   "source": [
    "\"\"\"\n",
    "The Full Whiskas Model Python Formulation for the PuLP Modeller\n",
    "\n",
    "Authors: Antony Phillips, Dr Stuart Mitchell  2007\n",
    "\"\"\"\n",
    "\n",
    "# Import PuLP modeler functions\n",
    "from pulp import *\n",
    "\n",
    "# Creates a list of the Ingredients\n",
    "Ingredients = ['CHICKEN', 'BEEF', 'MUTTON', 'RICE', 'WHEAT', 'GEL']\n",
    "\n",
    "# A dictionary of the costs of each of the Ingredients is created\n",
    "costs = {'CHICKEN': 0.013, \n",
    "         'BEEF': 0.008, \n",
    "         'MUTTON': 0.010, \n",
    "         'RICE': 0.002, \n",
    "         'WHEAT': 0.005, \n",
    "         'GEL': 0.001}\n",
    "\n",
    "# A dictionary of the protein percent in each of the Ingredients is created\n",
    "proteinPercent = {'CHICKEN': 0.100, \n",
    "                  'BEEF': 0.200, \n",
    "                  'MUTTON': 0.150, \n",
    "                  'RICE': 0.000, \n",
    "                  'WHEAT': 0.040, \n",
    "                  'GEL': 0.000}\n",
    "\n",
    "# A dictionary of the fat percent in each of the Ingredients is created\n",
    "fatPercent = {'CHICKEN': 0.080, \n",
    "              'BEEF': 0.100, \n",
    "              'MUTTON': 0.110, \n",
    "              'RICE': 0.010, \n",
    "              'WHEAT': 0.010, \n",
    "              'GEL': 0.000}\n",
    "\n",
    "# A dictionary of the fibre percent in each of the Ingredients is created\n",
    "fibrePercent = {'CHICKEN': 0.001, \n",
    "                'BEEF': 0.005, \n",
    "                'MUTTON': 0.003, \n",
    "                'RICE': 0.100, \n",
    "                'WHEAT': 0.150, \n",
    "                'GEL': 0.000}\n",
    "\n",
    "# A dictionary of the salt percent in each of the Ingredients is created\n",
    "saltPercent = {'CHICKEN': 0.002, \n",
    "               'BEEF': 0.005, \n",
    "               'MUTTON': 0.007, \n",
    "               'RICE': 0.002, \n",
    "               'WHEAT': 0.008, \n",
    "               'GEL': 0.000}\n",
    "\n"
   ]
  },
  {
   "cell_type": "markdown",
   "metadata": {},
   "source": [
    "Nastepnie możliwe jest zdefiniowanie przez nas problemu. Wszystko wygląda podobnie jak w pierwszym przykładzie lecz zapisanie równań z ograniczeinami jest dużo wygodniejsze, bo zawiera wszystkie składniki w jednej formule, dodanie składnika nie będzie powodowało zmiany w tej części kodu. Zapis taki jest przejrzysty i łatwo zmodyfikować wartości dla danych składników np.koszt czy procentową zawartośći soli."
   ]
  },
  {
   "cell_type": "code",
   "execution_count": 6,
   "metadata": {},
   "outputs": [],
   "source": [
    "# Create the 'prob' variable to contain the problem data\n",
    "prob = LpProblem(\"The Whiskas Problem\", LpMinimize)\n",
    "\n",
    "# A dictionary called 'ingredient_vars' is created to contain the referenced Variables\n",
    "ingredient_vars = LpVariable.dicts(\"Ingr\",Ingredients,0)\n",
    "# The objective function is added to 'prob' first\n",
    "prob += lpSum([costs[i]*ingredient_vars[i] for i in Ingredients]), \"Total Cost of Ingredients per can\"\n",
    "\n",
    "# The five constraints are added to 'prob'\n",
    "prob += lpSum([ingredient_vars[i] for i in Ingredients]) == 100, \"PercentagesSum\"\n",
    "prob += lpSum([proteinPercent[i] * ingredient_vars[i] for i in Ingredients]) >= 8.0, \"ProteinRequirement\"\n",
    "prob += lpSum([fatPercent[i] * ingredient_vars[i] for i in Ingredients]) >= 6.0, \"FatRequirement\"\n",
    "prob += lpSum([fibrePercent[i] * ingredient_vars[i] for i in Ingredients]) <= 2.0, \"FibreRequirement\"\n",
    "prob += lpSum([saltPercent[i] * ingredient_vars[i] for i in Ingredients]) <= 0.4, \"SaltRequirement\""
   ]
  },
  {
   "cell_type": "markdown",
   "metadata": {},
   "source": [
    "Wynik wskazuje nam by produkt składał się z 60% z wołowiny i w 40% z żelu. Koszt jednej puszki wyniesie 0,52."
   ]
  },
  {
   "cell_type": "code",
   "execution_count": 7,
   "metadata": {},
   "outputs": [
    {
     "name": "stdout",
     "output_type": "stream",
     "text": [
      "Status: Optimal\n",
      "Ingr_BEEF = 60.0\n",
      "Ingr_CHICKEN = 0.0\n",
      "Ingr_GEL = 40.0\n",
      "Ingr_MUTTON = 0.0\n",
      "Ingr_RICE = 0.0\n",
      "Ingr_WHEAT = 0.0\n",
      "Total Cost of Ingredients per can =  0.52\n"
     ]
    }
   ],
   "source": [
    "# The problem data is written to an .lp file\n",
    "prob.writeLP(\"WhiskasModel.lp\")\n",
    "\n",
    "# The problem is solved using PuLP's choice of Solver\n",
    "prob.solve()\n",
    "\n",
    "# The status of the solution is printed to the screen\n",
    "print(\"Status:\", LpStatus[prob.status])\n",
    "# Each of the variables is printed with it's resolved optimum value\n",
    "for v in prob.variables():\n",
    "    print(v.name, \"=\", v.varValue)\n",
    "\n",
    "# The optimised objective function value is printed to the screen\n",
    "print(\"Total Cost of Ingredients per can = \", value(prob.objective))"
   ]
  },
  {
   "cell_type": "markdown",
   "metadata": {},
   "source": [
    "Analiza wrażliwości dla tego problemu wygląda następująco:"
   ]
  },
  {
   "cell_type": "code",
   "execution_count": 8,
   "metadata": {},
   "outputs": [
    {
     "name": "stdout",
     "output_type": "stream",
     "text": [
      "\n",
      "Sensitivity Analysis\n",
      "\n",
      "        Name\tConstraint\t\t\tShadow Price\t\tSlack\n",
      "PercentagesSum       : Ingr_BEEF + Ingr_CHICKEN + Ingr_GEL + Ingr_MUTTON + Ingr_RICE + Ingr_WHEAT = 100                                         0.001      -0.0      \n",
      "ProteinRequirement   : 0.2*Ingr_BEEF + 0.1*Ingr_CHICKEN + 0.15*Ingr_MUTTON + 0.04*Ingr_WHEAT >= 8.0                                             0.0        -4.0      \n",
      "FatRequirement       : 0.1*Ingr_BEEF + 0.08*Ingr_CHICKEN + 0.11*Ingr_MUTTON + 0.01*Ingr_RICE + 0.01*Ingr_WHEAT >= 6.0                           0.07       -0.0      \n",
      "FibreRequirement     : 0.005*Ingr_BEEF + 0.001*Ingr_CHICKEN + 0.003*Ingr_MUTTON + 0.1*Ingr_RICE + 0.15*Ingr_WHEAT <= 2.0                        0.0        1.7       \n",
      "SaltRequirement      : 0.005*Ingr_BEEF + 0.002*Ingr_CHICKEN + 0.007*Ingr_MUTTON + 0.002*Ingr_RICE + 0.008*Ingr_WHEAT <= 0.4                     0.0        0.10000000000000003\n"
     ]
    }
   ],
   "source": [
    "print(\"\"\"\\nSensitivity Analysis\\n\n",
    "        Name\\tConstraint\\t\\t\\tShadow Price\\t\\tSlack\"\"\")\n",
    "for name, c in prob.constraints.items():\n",
    "    print(str(name).ljust(20), \":\", str(c).ljust(120), str(c.pi).ljust(10), str(c.slack).ljust(10))"
   ]
  },
  {
   "cell_type": "markdown",
   "metadata": {},
   "source": [
    "Analiza wrażliwości mówi nam jak opłaca nam się zmieniać daną wartość wejściową. Analiza tak pozwala umównie przewidywać przyszłość."
   ]
  },
  {
   "cell_type": "code",
   "execution_count": null,
   "metadata": {},
   "outputs": [],
   "source": []
  }
 ],
 "metadata": {
  "kernelspec": {
   "display_name": "Python 3",
   "language": "python",
   "name": "python3"
  },
  "language_info": {
   "codemirror_mode": {
    "name": "ipython",
    "version": 3
   },
   "file_extension": ".py",
   "mimetype": "text/x-python",
   "name": "python",
   "nbconvert_exporter": "python",
   "pygments_lexer": "ipython3",
   "version": "3.6.7"
  }
 },
 "nbformat": 4,
 "nbformat_minor": 2
}
