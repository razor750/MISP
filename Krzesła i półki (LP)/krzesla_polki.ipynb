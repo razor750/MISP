{
 "cells": [
  {
   "cell_type": "markdown",
   "metadata": {},
   "source": [
    "# \"Problem stolarza\" \n",
    "## Rozwiazanie problemu zakładu stolarskiego w którym produkowane są półki i krzesełka, a należy zmaksymalizować zysk sprzedaży. Zakład dysponuje pewnymi skończonymi zasobami w postaci pracowników i ich czasu pracy."
   ]
  },
  {
   "cell_type": "markdown",
   "metadata": {},
   "source": [
    "Na początku programu zdefinujemy zmienną prob, zapisując problem i określając typ-maksymalizacja. Nasze zmienne to dwa typy produktów, których ilość musi być wynikiem całkowitym, nie mniejszym niż 0, ale górny limit teoretycznie nie istnieje."
   ]
  },
  {
   "cell_type": "code",
   "execution_count": 4,
   "metadata": {},
   "outputs": [],
   "source": [
    "from pulp import *\n",
    "\n",
    "prob = LpProblem(\"Krzesełeczka i półeczki\",LpMaximize)\n",
    "\n",
    "A=LpVariable(\"liczba krzesełeczek\",0,10000, LpInteger)\n",
    "B=LpVariable(\"liczba półeczek\",0,10000, LpInteger)\n"
   ]
  },
  {
   "cell_type": "markdown",
   "metadata": {},
   "source": [
    "Definiujemy funkcję problemu przez zysk dla danych produktów, na co składa się dochód za sprzedany produkt i wydane na pracowników/robota pieniądze na wypłaty/koszty eksploatacyjne. Wprowadzamy ograniczenia czasu pracy dla robota, inżyniera i lakiernika. "
   ]
  },
  {
   "cell_type": "code",
   "execution_count": 5,
   "metadata": {},
   "outputs": [],
   "source": [
    "#prob += 40000*A + 50000*B bez uwzględnienia kosztów\n",
    "prob += 40000*A + 50000*B - (A*3 + B*4)*300 - (A*5 + B*6)*700 - (A*1.5 + B*3)*1500, \"many, many, many - koszta\"\n",
    "\n",
    "prob += A*3 + B*4 <=30  , \"czas pracy robota\"\n",
    "prob += A*(5/1) + B*(6/1) <=30  , \"czas pracy inżynierów\"\n",
    "prob += A*1.5 + B*3 <=21 , \"czas pracy lakjernika\""
   ]
  },
  {
   "cell_type": "markdown",
   "metadata": {},
   "source": [
    "Zadanie rozwiazania problemu i podania odpowidzi w formie ilośći półek i krzeseł, a także jaki przyniesie to zysk."
   ]
  },
  {
   "cell_type": "code",
   "execution_count": 6,
   "metadata": {},
   "outputs": [
    {
     "name": "stdout",
     "output_type": "stream",
     "text": [
      "Status: Optimal\n",
      "liczba_krzesełeczek = 0.0\n",
      "liczba_półeczek = 5.0\n",
      "Zysk =  200500.0\n"
     ]
    }
   ],
   "source": [
    "prob.writeLP(\"problem.lp\")\n",
    "\n",
    "prob.solve()\n",
    "\n",
    "print(\"Status:\", LpStatus[prob.status])\n",
    "\n",
    "for v in prob.variables():\n",
    "    print(v.name, \"=\", v.varValue)\n",
    "    \n",
    "print(\"Zysk = \", value(prob.objective))"
   ]
  },
  {
   "cell_type": "markdown",
   "metadata": {},
   "source": [
    "Wynik mówi nam jednoznacznie, żeby produkować jedynie półki. Zysk wynosi 200500."
   ]
  }
 ],
 "metadata": {
  "kernelspec": {
   "display_name": "Python 3",
   "language": "python",
   "name": "python3"
  },
  "language_info": {
   "codemirror_mode": {
    "name": "ipython",
    "version": 3
   },
   "file_extension": ".py",
   "mimetype": "text/x-python",
   "name": "python",
   "nbconvert_exporter": "python",
   "pygments_lexer": "ipython3",
   "version": "3.6.7"
  }
 },
 "nbformat": 4,
 "nbformat_minor": 2
}
