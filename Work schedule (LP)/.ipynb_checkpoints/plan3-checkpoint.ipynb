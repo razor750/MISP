{
 "cells": [
  {
   "cell_type": "markdown",
   "metadata": {},
   "source": [
    "# Problem podziału godzin\n",
    "W firmie jest kilku pracowników. Każdy z nich ma określoną ilość godzin każdego dnia jaką może maksymalnie spędzić w pracy. Każdy z pracowników musi pracować 8 godzin tygodniowo. Ponadto biuro otwarte jest jedynie przez 14 godzin przez 5 dni w tygodniu i znajduje się w nim tylko jeden komputer, więc suma pracowanych godzin wszystkich pracowników nie może przekraczać 14 godzin dziennie.\n",
    "\n",
    "Tak sformułowane zadanie nie znajdzie jednak rozwiązania dla więcej niż 8 pracowników ze względu na ilość godzin otwarcia biura w tygodniu."
   ]
  },
  {
   "cell_type": "markdown",
   "metadata": {},
   "source": [
    "## Wersja rozszerzona o obsługę danych z pliku csv zawierającego dowolną ilością pracowników"
   ]
  },
  {
   "cell_type": "markdown",
   "metadata": {},
   "source": [
    "### Import bibliotek używanych do rozwiązania problemu"
   ]
  },
  {
   "cell_type": "code",
   "execution_count": 1,
   "metadata": {},
   "outputs": [],
   "source": [
    "from pulp import *\n",
    "import pandas as pd\n",
    "import math"
   ]
  },
  {
   "cell_type": "markdown",
   "metadata": {},
   "source": [
    "### Import danych o godzinach z csv, sortowanie pracowników alfabetycznie oraz obliczenie ilości pracowników"
   ]
  },
  {
   "cell_type": "code",
   "execution_count": 2,
   "metadata": {
    "scrolled": false
   },
   "outputs": [],
   "source": [
    "dzien = pd.read_csv('tablica_z_dodanym.csv',index_col=0).to_dict()\n",
    "pon = dzien['1_PN']\n",
    "Pracownicy=list(pon.keys())\n",
    "Pracownicy.sort()\n",
    "ilosc=len(Pracownicy)"
   ]
  },
  {
   "cell_type": "markdown",
   "metadata": {},
   "source": [
    "### Deklaracja zmiennych"
   ]
  },
  {
   "cell_type": "code",
   "execution_count": 3,
   "metadata": {},
   "outputs": [],
   "source": [
    "#Pracownicy = [\"KC\", \"DH\", \"HB\", \"SC\", \"KS\", \"NK\"]\n",
    "Dni = [\"1_PN\", \"2_WT\", \"3_SR\", \"4_CW\", \"5_PT\"]\n",
    "czas = [[0 for col in range(5)] for row in range(ilosc)]\n",
    "wynik = [[0 for col in range(5)] for row in range(ilosc)]\n",
    "for x in range(ilosc):\n",
    "    for y in range(5):\n",
    "        czas[x][y]=dzien[Dni[y]][Pracownicy[x]]\n"
   ]
  },
  {
   "cell_type": "markdown",
   "metadata": {},
   "source": [
    "### Sformułowanie problemu liniowego"
   ]
  },
  {
   "cell_type": "code",
   "execution_count": 4,
   "metadata": {},
   "outputs": [],
   "source": [
    "czas = makeDict([Pracownicy,Dni],czas,0)\n",
    "prob = LpProblem(\"Grafik\",LpMinimize)\n",
    "vars = LpVariable.dicts(\"Grafik\",(Pracownicy,Dni),0,None,LpInteger)"
   ]
  },
  {
   "cell_type": "markdown",
   "metadata": {},
   "source": [
    "### Wprowadzenie ograniczeń"
   ]
  },
  {
   "cell_type": "code",
   "execution_count": 5,
   "metadata": {},
   "outputs": [],
   "source": [
    "for w in Pracownicy:\n",
    "    prob += lpSum([vars[w][b] for b in Dni])==8, \"Sum_of_Products_out_of_Warehouse_%s\"%w\n",
    "\n",
    "for b in Dni:\n",
    "    prob += lpSum([vars[w][b] for w in Pracownicy])<=14, \"Sum_of_Products_out_of_Warehouse_%s\"%b\n",
    "\n",
    "for w in Pracownicy:\n",
    "    for b in Dni:\n",
    "        prob += vars[w][b]<=czas[w][b], \"Sum_of_Products_out_of_Warehoushsfde_%s\"%b+w"
   ]
  },
  {
   "cell_type": "markdown",
   "metadata": {},
   "source": [
    "### Rozwiązanie problemu\n",
    "Specyfikacje zdefiniowanego problemu zapiszemy w pliku pod nazwą \"Grafik_Pracownikow\", rozwiązujemy problem i na ekranie wyświetlamy informację o statusie rozwiązania. Jeżeli wyświetli nam się \"Status: Optimal\" oznacza to, że wynik jest poprawny. Gdyby pojawił się \"Status: Infeasible\" oznacza to że wynik jest niemożliwy do otrzymania i wtedy potrzebna jest redefinicja problemu z innymi warunkami."
   ]
  },
  {
   "cell_type": "code",
   "execution_count": 6,
   "metadata": {},
   "outputs": [
    {
     "name": "stdout",
     "output_type": "stream",
     "text": [
      "Status: Optimal\n"
     ]
    }
   ],
   "source": [
    "prob.writeLP(\"Grafik_Pracownikow.lp\")\n",
    "prob.solve()\n",
    "print(\"Status:\", LpStatus[prob.status])"
   ]
  },
  {
   "cell_type": "markdown",
   "metadata": {},
   "source": [
    "### Przygotowanie wyniku\n",
    "Wynik zapisany jest w (5 * ilość pracowników) zmiennych, przepisując wartości zmiennych do tablicy, możemy je posortować i wyświetlić w wybranej przez nas kolejności."
   ]
  },
  {
   "cell_type": "code",
   "execution_count": 7,
   "metadata": {
    "scrolled": true
   },
   "outputs": [],
   "source": [
    "\n",
    "    # Każda zmienna zostanie zapisana do tablicy wynik\n",
    "for v in range(ilosc*5):\n",
    "    wynik[math.floor(v/5)][v%5] = prob.variables()[v].varValue\n",
    "    \n"
   ]
  },
  {
   "cell_type": "markdown",
   "metadata": {},
   "source": [
    "### Wyświetlenie wyniku\n",
    "Za pomocą jednej pętli i wyświetlonemu najpierw nagłówkowi, możemy przedstawić wynik w formie czytelnej tabeli."
   ]
  },
  {
   "cell_type": "code",
   "execution_count": 8,
   "metadata": {},
   "outputs": [
    {
     "name": "stdout",
     "output_type": "stream",
     "text": [
      "    PN   WT   SR   CZW  PT\n",
      "AA [2.0, 2.0, 2.0, 0.0, 2.0]\n",
      "DH [0.0, 2.0, 0.0, 6.0, 0.0]\n",
      "HB [0.0, 0.0, 4.0, 0.0, 4.0]\n",
      "KC [0.0, 0.0, 2.0, 0.0, 6.0]\n",
      "KS [3.0, 0.0, 3.0, 2.0, 0.0]\n",
      "NK [0.0, 0.0, 0.0, 6.0, 2.0]\n",
      "SC [3.0, 5.0, 0.0, 0.0, 0.0]\n"
     ]
    }
   ],
   "source": [
    "print(\"    PN   WT   SR   CZW  PT\")\n",
    "for i in range(ilosc):\n",
    "    print(Pracownicy[i],wynik[i])\n",
    "        "
   ]
  }
 ],
 "metadata": {
  "kernelspec": {
   "display_name": "Python 3",
   "language": "python",
   "name": "python3"
  },
  "language_info": {
   "codemirror_mode": {
    "name": "ipython",
    "version": 3
   },
   "file_extension": ".py",
   "mimetype": "text/x-python",
   "name": "python",
   "nbconvert_exporter": "python",
   "pygments_lexer": "ipython3",
   "version": "3.6.7"
  }
 },
 "nbformat": 4,
 "nbformat_minor": 2
}
